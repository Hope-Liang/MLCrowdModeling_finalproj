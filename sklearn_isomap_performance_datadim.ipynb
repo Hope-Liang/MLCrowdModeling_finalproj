{
 "cells": [
  {
   "cell_type": "code",
   "execution_count": 1,
   "metadata": {},
   "outputs": [],
   "source": [
    "from sklearn.datasets import make_swiss_roll\n",
    "import numpy as np\n",
    "import pandas as pd\n",
    "from gensim.models import KeyedVectors\n",
    "from pathlib import Path\n",
    "import plotly.graph_objects as go\n",
    "import numpy as np\n",
    "from sklearn.datasets import make_swiss_roll\n",
    "import matplotlib.pyplot as plt\n",
    "from sklearn.manifold import Isomap\n",
    "from mpl_toolkits.mplot3d import Axes3D\n",
    "import time\n",
    "\n",
    "\n",
    "\n",
    "def make_NoisySwissRoll(n_samples, n_noise):\n",
    "    \"\"\"\n",
    "    Create a classic Swiss Roll dataset with additional noise columns\n",
    "    :param n_samples: nrows for the dataset\n",
    "    :param n_noise: number of additional noise columns\n",
    "    :return: (created noisy dataset (numpy), corresponding dataset with no noise (numpy), colors)\n",
    "    \"\"\"\n",
    "    data, colors = make_swiss_roll(n_samples=n_samples)\n",
    "    data_df = pd.DataFrame(columns=[str(i) for i in range(3)], data=data)\n",
    "    for j in range(n_noise):\n",
    "        data_df[str(j + 3)] = pd.Series(np.random.rand(n_samples))\n",
    "    return data_df.to_numpy(), data_df[[\"0\", \"1\", \"2\"]].to_numpy(), colors\n",
    "\n",
    "\n",
    "def draw_3d_plotly(data, colors=None):\n",
    "    \"\"\"\n",
    "    Draw a 3d plot for given data.\n",
    "    :param data: data in numpy format. Must have 3 dimensions.\n",
    "    :param colors: optional, if coloring of points is wanted.\n",
    "    :return:\n",
    "    \"\"\"\n",
    "    xdata = data[:,0]\n",
    "    ydata = data[:,1]\n",
    "    zdata = data[:,2]\n",
    "\n",
    "    fig = go.Figure(data=[go.Scatter3d(x=xdata,\n",
    "                                       y=ydata,\n",
    "                                       z=zdata,\n",
    "                                       mode='markers',\n",
    "                                       marker = dict(\n",
    "                                                size=12,\n",
    "                                                color=colors,\n",
    "                                                colorscale='Viridis',\n",
    "                                                opacity=0.8))])\n",
    "\n",
    "    fig.update_layout(margin=dict(l=0, r=0, b=0, t=0))\n",
    "    fig.show()\n",
    "    \n",
    "dim_nums = [5, 10, 50, 100, 500, 1000, 5000]\n",
    "exec_times = list()"
   ]
  },
  {
   "cell_type": "code",
   "execution_count": 2,
   "metadata": {},
   "outputs": [],
   "source": [
    "data, data_no_noise, colors = make_NoisySwissRoll(50000, 2)"
   ]
  },
  {
   "cell_type": "code",
   "execution_count": null,
   "metadata": {},
   "outputs": [],
   "source": [
    "start_time = time.time()\n",
    "\n",
    "data0 = Isomap(n_neighbors = 10, n_components = 3).fit_transform(data)\n",
    "exec_sec = time.time() - start_time\n",
    "exec_times.append(exec_sec)\n",
    "draw_3d_plotly(data0, colors)"
   ]
  },
  {
   "cell_type": "code",
   "execution_count": null,
   "metadata": {},
   "outputs": [],
   "source": [
    "data, data_no_noise, colors = make_NoisySwissRoll(50000, 7)"
   ]
  },
  {
   "cell_type": "code",
   "execution_count": null,
   "metadata": {},
   "outputs": [],
   "source": [
    "start_time = time.time()\n",
    "\n",
    "data0 = Isomap(n_neighbors = 10, n_components = 3).fit_transform(data)\n",
    "exec_sec = time.time() - start_time\n",
    "exec_times.append(exec_sec)\n",
    "draw_3d_plotly(data0, colors)"
   ]
  },
  {
   "cell_type": "code",
   "execution_count": null,
   "metadata": {},
   "outputs": [],
   "source": [
    "data, data_no_noise, colors = make_NoisySwissRoll(50000, 47)"
   ]
  },
  {
   "cell_type": "code",
   "execution_count": null,
   "metadata": {},
   "outputs": [],
   "source": [
    "start_time = time.time()\n",
    "\n",
    "data0 = Isomap(n_neighbors = 10, n_components = 3).fit_transform(data)\n",
    "exec_sec = time.time() - start_time\n",
    "exec_times.append(exec_sec)\n",
    "draw_3d_plotly(data0, colors)"
   ]
  },
  {
   "cell_type": "code",
   "execution_count": null,
   "metadata": {},
   "outputs": [],
   "source": [
    "data, data_no_noise, colors = make_NoisySwissRoll(50000, 97)"
   ]
  },
  {
   "cell_type": "code",
   "execution_count": null,
   "metadata": {},
   "outputs": [],
   "source": [
    "start_time = time.time()\n",
    "\n",
    "data0 = Isomap(n_neighbors = 10, n_components = 3).fit_transform(data)\n",
    "exec_sec = time.time() - start_time\n",
    "exec_times.append(exec_sec)\n",
    "draw_3d_plotly(data0, colors)"
   ]
  },
  {
   "cell_type": "code",
   "execution_count": null,
   "metadata": {},
   "outputs": [],
   "source": [
    "data, data_no_noise, colors = make_NoisySwissRoll(50000, 497)"
   ]
  },
  {
   "cell_type": "code",
   "execution_count": null,
   "metadata": {},
   "outputs": [],
   "source": [
    "start_time = time.time()\n",
    "\n",
    "data0 = Isomap(n_neighbors = 10, n_components = 3).fit_transform(data)\n",
    "exec_sec = time.time() - start_time\n",
    "exec_times.append(exec_sec)\n",
    "draw_3d_plotly(data0, colors)"
   ]
  },
  {
   "cell_type": "code",
   "execution_count": null,
   "metadata": {},
   "outputs": [],
   "source": [
    "data, data_no_noise, colors = make_NoisySwissRoll(50000, 997)"
   ]
  },
  {
   "cell_type": "code",
   "execution_count": null,
   "metadata": {},
   "outputs": [],
   "source": [
    "start_time = time.time()\n",
    "\n",
    "data0 = Isomap(n_neighbors = 10, n_components = 3).fit_transform(data)\n",
    "exec_sec = time.time() - start_time\n",
    "exec_times.append(exec_sec)\n",
    "draw_3d_plotly(data0, colors)"
   ]
  },
  {
   "cell_type": "code",
   "execution_count": null,
   "metadata": {},
   "outputs": [],
   "source": [
    "data, data_no_noise, colors = make_NoisySwissRoll(50000, 4997)"
   ]
  },
  {
   "cell_type": "code",
   "execution_count": null,
   "metadata": {},
   "outputs": [],
   "source": [
    "start_time = time.time()\n",
    "\n",
    "data0 = Isomap(n_neighbors = 10, n_components = 3).fit_transform(data)\n",
    "exec_sec = time.time() - start_time\n",
    "exec_times.append(exec_sec)\n",
    "draw_3d_plotly(data0, colors)"
   ]
  },
  {
   "cell_type": "code",
   "execution_count": null,
   "metadata": {},
   "outputs": [],
   "source": []
  }
 ],
 "metadata": {
  "kernelspec": {
   "display_name": "Python 3",
   "language": "python",
   "name": "python3"
  },
  "language_info": {
   "codemirror_mode": {
    "name": "ipython",
    "version": 3
   },
   "file_extension": ".py",
   "mimetype": "text/x-python",
   "name": "python",
   "nbconvert_exporter": "python",
   "pygments_lexer": "ipython3",
   "version": "3.7.4"
  }
 },
 "nbformat": 4,
 "nbformat_minor": 2
}
